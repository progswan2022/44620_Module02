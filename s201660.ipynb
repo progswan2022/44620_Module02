{
 "cells": [
  {
   "cell_type": "markdown",
   "id": "5580a755-826c-4e8f-9b74-d616abbe017c",
   "metadata": {},
   "source": [
    "# Student Name: Erin Swan-Siegel"
   ]
  },
  {
   "cell_type": "markdown",
   "id": "bef495d4-62b4-4d7e-b3e6-6ca7a0b10804",
   "metadata": {},
   "source": [
    "# Question 10.\n",
    "### Add a Code cell and write Python that uses loops to draw the following pattern:\n",
    "\n",
    "* Make sure to add and submit both the new notebook and the changes to this notebook for this assignment."
   ]
  },
  {
   "cell_type": "code",
   "execution_count": 26,
   "id": "5c683de7-89ad-47a8-8c1b-fe517984e09a",
   "metadata": {},
   "outputs": [
    {
     "name": "stdout",
     "output_type": "stream",
     "text": [
      "*      *\n",
      "**    **\n",
      "***  ***\n",
      "********\n"
     ]
    }
   ],
   "source": [
    "# *      *\n",
    "# **    **\n",
    "# ***  ***\n",
    "# ********\n",
    "for i in range(1,5):\n",
    "   print(i * '*'+ (8-2*i)*' '+ i * '*')"
   ]
  },
  {
   "cell_type": "code",
   "execution_count": null,
   "id": "2003b250-2cc1-4d78-bd78-f1dc893b01ef",
   "metadata": {},
   "outputs": [],
   "source": []
  }
 ],
 "metadata": {
  "kernelspec": {
   "display_name": "Python 3 (ipykernel)",
   "language": "python",
   "name": "python3"
  },
  "language_info": {
   "codemirror_mode": {
    "name": "ipython",
    "version": 3
   },
   "file_extension": ".py",
   "mimetype": "text/x-python",
   "name": "python",
   "nbconvert_exporter": "python",
   "pygments_lexer": "ipython3",
   "version": "3.9.7"
  }
 },
 "nbformat": 4,
 "nbformat_minor": 5
}
